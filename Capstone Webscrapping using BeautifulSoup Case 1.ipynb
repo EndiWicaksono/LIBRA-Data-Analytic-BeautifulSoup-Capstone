{
 "cells": [
  {
   "cell_type": "markdown",
   "metadata": {},
   "source": [
    "# CASE 1 - Capstone Webscrapping using BeautifulSoup\n",
    "\n",
    "Di dalam program ini , kita mencoba untuk webscrapping data di halaman https://news.mifx.com/kurs-valuta-asing?kurs=JPY, di sini kita mencoba untuk mengambil data kurs japan yang di tampilkan di halaman web tersebut, kemudian coba untuk menganalisa dan memvisualisasikan dalam bentuk chart di halaman web yang akan kita bikin,\n",
    "\n",
    "Di sini kita mnggunakan beberapa library :\n",
    "- Beautifulsoup4 (untuk scrapping data dari web)\n",
    "- Flask (untuk menampilkan Visualisasi di web)\n",
    "- Pandas (untuk proses EDA)\n",
    "- Matplotlib (Untuk memvisualisasikan dalam bentuk chart)\n",
    "- Requests (untuk request url)\n",
    "\n"
   ]
  },
  {
   "cell_type": "markdown",
   "metadata": {},
   "source": [
    "Pertama kita untuk membuat koneksi ke halaman web https://news.mifx.com/kurs-valuta-asing?kurs=JPY sekaligus menyalin data htmlnya ke komputer lokal"
   ]
  },
  {
   "cell_type": "code",
   "execution_count": 1,
   "metadata": {
    "ExecuteTime": {
     "end_time": "2020-01-13T05:12:23.275508Z",
     "start_time": "2020-01-13T05:12:20.009898Z"
    }
   },
   "outputs": [],
   "source": [
    "import requests\n",
    "\n",
    "url_get = requests.get('https://news.mifx.com/kurs-valuta-asing?kurs=JPY')"
   ]
  },
  {
   "cell_type": "markdown",
   "metadata": {},
   "source": [
    "Kemudian kita check datanya, apakah sudah sesuai dengan html webpage nya, akan tetapi bentuknya masih belum terstruktur"
   ]
  },
  {
   "cell_type": "code",
   "execution_count": 2,
   "metadata": {
    "ExecuteTime": {
     "end_time": "2020-01-13T05:12:23.290648Z",
     "start_time": "2020-01-13T05:12:23.277650Z"
    },
    "scrolled": true
   },
   "outputs": [
    {
     "data": {
      "text/plain": [
       "b'!DOCTYPE html PUBLIC \"-//W3C//DTD XHTML 1.0 Transitional//EN\" \"http://www.w3.org/TR/xhtml1/DTD/xhtml1-transitional.dtd\">\\n<html xmlns=\"http://www.w3.org/1999/xhtml\">\\n<head>\\n<meta http-equiv=\"Content-Language\" content=\"en,in\" />\\n<link rel=\"alternate\" href=\"https://news.mifx.com/kurs-valuta-asing.php\" hreflang=\"en-ID\" />\\n<base href=\"https://news.mifx.com/\" target=\"_self\" />\\n<title>Kurs Dollar | USD | Nilai Tukar Dollar Hari Ini</title>\\n<meta property=\"og:title\" content=\"Kurs Dollar | USD | Nilai Tukar Dollar Hari Ini\" />\\n<meta name=\"description\" content=\"Nilai tukar rupiah terhadap dollar hari ini berdasarkan kurs tengah Bank Indonesia. \" />\\n<meta property=\"og:description\" content=\"Nilai tukar rupiah terhadap dollar hari ini berdasarkan kurs tengah Bank Indonesia. \" />'"
      ]
     },
     "execution_count": 2,
     "metadata": {},
     "output_type": "execute_result"
    }
   ],
   "source": [
    "url_get.content[1:777]"
   ]
  },
  {
   "cell_type": "markdown",
   "metadata": {},
   "source": [
    "Karena bentuknya belum terstruktur maka kita membutuhkan library `BeautifulSoup` untuk mem-parser datanya supaya lebih tertata dan datanya di simpan di variable soup"
   ]
  },
  {
   "cell_type": "code",
   "execution_count": 3,
   "metadata": {
    "ExecuteTime": {
     "end_time": "2020-01-13T05:12:23.808122Z",
     "start_time": "2020-01-13T05:12:23.292610Z"
    }
   },
   "outputs": [
    {
     "name": "stdout",
     "output_type": "stream",
     "text": [
      "<class 'bs4.BeautifulSoup'>\n"
     ]
    }
   ],
   "source": [
    "from bs4 import BeautifulSoup \n",
    "\n",
    "soup = BeautifulSoup(url_get.content,\"html.parser\")\n",
    "print(type(soup))"
   ]
  },
  {
   "cell_type": "markdown",
   "metadata": {},
   "source": [
    "Mari kita lihat hasilnya, kita coba mengambil dari baris pertama sampai baris 1045 "
   ]
  },
  {
   "cell_type": "code",
   "execution_count": 4,
   "metadata": {
    "ExecuteTime": {
     "end_time": "2020-01-13T05:12:23.851033Z",
     "start_time": "2020-01-13T05:12:23.810086Z"
    }
   },
   "outputs": [
    {
     "name": "stdout",
     "output_type": "stream",
     "text": [
      "<!DOCTYPE html PUBLIC \"-//W3C//DTD XHTML 1.0 Transitional//EN\" \"http://www.w3.org/TR/xhtml1/DTD/xhtml1-transitional.dtd\">\n",
      "<html xmlns=\"http://www.w3.org/1999/xhtml\">\n",
      " <head>\n",
      "  <meta content=\"en,in\" http-equiv=\"Content-Language\"/>\n",
      "  <link href=\"https://news.mifx.com/kurs-valuta-asing.php\" hreflang=\"en-ID\" rel=\"alternate\"/>\n",
      "  <base href=\"https://news.mifx.com/\" target=\"_self\"/>\n",
      "  <title>\n",
      "   Kurs Dollar | USD | Nilai Tukar Dollar Hari Ini\n",
      "  </title>\n",
      "  <meta content=\"Kurs Dollar | USD | Nilai Tukar Dollar Hari Ini\" property=\"og:title\"/>\n",
      "  <meta content=\"Nilai tukar rupiah terhadap dollar hari ini berdasarkan kurs tengah Bank Indonesia. \" name=\"description\"/>\n",
      "  <meta content=\"Nilai tukar rupiah terhadap dollar hari ini berdasarkan kurs tengah Bank Indonesia. \" property=\"og:description\"/>\n",
      "  <meta content=\"Broker Terbaik, Trading Forex, Trading Teregulasi, Trading Online, Monex, mifx,\" name=\"keywords\"/>\n",
      "  <meta content=\"favicon.jpg?v=1570462055\" property=\"og:image\"/>\n",
      "  <meta content=\"Ultimaengine.com\" name=\"author\"/>\n",
      "  <meta content=\"fo\n"
     ]
    }
   ],
   "source": [
    "print(soup.prettify()[:1045])"
   ]
  },
  {
   "cell_type": "markdown",
   "metadata": {},
   "source": [
    "Setelah itu kita mencoba untuk mencari data yang di butuhkan dalam hal ini kurs yen dari table yang ada di halaman website, untuk cara cepatnya kita bisa memakai menu inpect di halaman web browsernya dan kita klik tablenya ( di balik juga gapapa, klik kanan table baru inspect), maka di situ akan terlihat structur html dari table tersebut. Kita cari key Table, kemudian ambil class nya dan di masukan ke attribute soup.find "
   ]
  },
  {
   "cell_type": "code",
   "execution_count": 5,
   "metadata": {
    "ExecuteTime": {
     "end_time": "2020-01-13T05:12:23.878904Z",
     "start_time": "2020-01-13T05:12:23.854974Z"
    }
   },
   "outputs": [
    {
     "name": "stdout",
     "output_type": "stream",
     "text": [
      "table cellpadding=\"10\" cellspacing=\"0\" class=\"centerText newsTable2\" width=\"100%\">\n",
      " <tr class=\"colorWhite fontsize14 firstRow\">\n",
      "  <td>\n",
      "   TANGGAL\n",
      "  </td>\n",
      "  <td>\n",
      "   ASK\n",
      "  </td>\n",
      "  <td>\n",
      "   BID\n",
      "  </td>\n",
      " </tr>\n",
      " <tr class=\"verySoftGreyBg\">\n",
      "  <td>\n",
      "   07 Agustus 2020\n",
      "  </td>\n",
      "  <td>\n",
      "   139,42\n",
      "  </td>\n",
      "  <td>\n",
      "   138,02\n",
      "  </td>\n",
      " </tr>\n",
      " <tr>\n",
      "  <td>\n",
      "   06 Agustus 2020\n",
      "  </td>\n",
      "  <td>\n",
      "   138,88\n",
      "  </td>\n",
      "  <td>\n",
      "   137,48\n",
      "  </td>\n",
      " </tr>\n",
      " <tr class=\"verySoftGreyBg\">\n",
      "  <td>\n",
      "   05 Agustus 2020\n",
      "  </td>\n",
      "  <td>\n",
      "   139,\n"
     ]
    }
   ],
   "source": [
    "table = soup.find('table', attrs={'class':'centerText newsTable2'})\n",
    "print(table.prettify()[1:500])"
   ]
  },
  {
   "cell_type": "markdown",
   "metadata": {},
   "source": [
    "Setelah terlihat lebih rapi, untuk table di HTML biasanya mengandung 3 atrribute :\n",
    "- TH --> table Header \n",
    "- TR --> table Raw\n",
    "- TD --> table Data\n",
    "\n",
    "di karenakan kita mau mengambil data per baris sehingga kita fokus di TR dan TD, sehingga untuk pertama kali kita ambil adalah data per raw (TR), dimana data per raw (TR) ini terdiri dari 3 data (TD)"
   ]
  },
  {
   "cell_type": "code",
   "execution_count": 6,
   "metadata": {},
   "outputs": [
    {
     "data": {
      "text/plain": [
       "[<tr class=\"colorWhite fontsize14 firstRow\">\n",
       " <td>TANGGAL</td>\n",
       " <td>ASK</td>\n",
       " <td>BID</td>\n",
       " </tr>,\n",
       " <tr class=\"verySoftGreyBg\">\n",
       " <td>07 Agustus 2020</td>\n",
       " <td>139,42</td>\n",
       " <td>138,02</td>\n",
       " </tr>]"
      ]
     },
     "execution_count": 6,
     "metadata": {},
     "output_type": "execute_result"
    }
   ],
   "source": [
    "tr = table.find_all('tr')\n",
    "tr[:2] # just call 2 founded tr"
   ]
  },
  {
   "cell_type": "markdown",
   "metadata": {},
   "source": [
    "setelah mengambil data per raw (TR) kemudian kita ambil data per kolom dalam baris (TD) dengan looping (for) dimana looping data dari 1 sampai jumlah TR yang ada di table tersebut akan di simpan dalam variable temp, sehingga di dapatkan data array di variable temp"
   ]
  },
  {
   "cell_type": "code",
   "execution_count": 7,
   "metadata": {
    "ExecuteTime": {
     "end_time": "2020-01-13T05:12:24.008256Z",
     "start_time": "2020-01-13T05:12:23.980358Z"
    }
   },
   "outputs": [
    {
     "data": {
      "text/plain": [
       "[('07 Agustus 2020', '139,42', '138,02'),\n",
       " ('06 Agustus 2020', '138,88', '137,48'),\n",
       " ('05 Agustus 2020', '139,23', '137,84'),\n",
       " ('04 Agustus 2020', '139,19', '137,79'),\n",
       " ('03 Agustus 2020', '139,72', '138,32')]"
      ]
     },
     "execution_count": 7,
     "metadata": {},
     "output_type": "execute_result"
    }
   ],
   "source": [
    "temp = [] #initiating a tuple\n",
    "\n",
    "for i in range(1, len(tr)):\n",
    "    row = table.find_all('tr')[i]\n",
    "    \n",
    "    #get bulan\n",
    "    Tanggal = row.find_all('td')[0].text\n",
    "    Tanggal = Tanggal.strip() #for removing the excess whitespace\n",
    "    Tanggal= Tanggal.replace(u'\\xa0', ' ')\n",
    "    #get inflasi\n",
    "    Ask = row.find_all('td')[1].text\n",
    "    Ask = Ask.strip() #for removing the excess whitespace\n",
    "\n",
    "    #get inflasi\n",
    "    Bid = row.find_all('td')[2].text\n",
    "    Bid = Bid.strip() #for removing the excess whitespace\n",
    "\n",
    "    temp.append((Tanggal,Ask,Bid)) \n",
    "    \n",
    "temp "
   ]
  },
  {
   "cell_type": "markdown",
   "metadata": {},
   "source": [
    "Karena datanya belum order ascending based on data maka kita lakukan sorting untuk membalikkan urutannya"
   ]
  },
  {
   "cell_type": "code",
   "execution_count": 8,
   "metadata": {},
   "outputs": [
    {
     "data": {
      "text/plain": [
       "[('03 Agustus 2020', '139,72', '138,32'),\n",
       " ('04 Agustus 2020', '139,19', '137,79'),\n",
       " ('05 Agustus 2020', '139,23', '137,84'),\n",
       " ('06 Agustus 2020', '138,88', '137,48'),\n",
       " ('07 Agustus 2020', '139,42', '138,02')]"
      ]
     },
     "execution_count": 8,
     "metadata": {},
     "output_type": "execute_result"
    }
   ],
   "source": [
    "temp = temp[::-1]\n",
    "temp"
   ]
  },
  {
   "cell_type": "markdown",
   "metadata": {},
   "source": [
    "Setelah proses scrapping selesai, di sini akan di lakukan EDA (Exploratory Data Analisis), yang di lakukan pertama tentunya merubah array menjadi dataframe"
   ]
  },
  {
   "cell_type": "code",
   "execution_count": 9,
   "metadata": {
    "ExecuteTime": {
     "end_time": "2020-01-13T05:12:41.517372Z",
     "start_time": "2020-01-13T05:12:29.130015Z"
    },
    "scrolled": false
   },
   "outputs": [
    {
     "data": {
      "text/html": [
       "<div>\n",
       "<style scoped>\n",
       "    .dataframe tbody tr th:only-of-type {\n",
       "        vertical-align: middle;\n",
       "    }\n",
       "\n",
       "    .dataframe tbody tr th {\n",
       "        vertical-align: top;\n",
       "    }\n",
       "\n",
       "    .dataframe thead th {\n",
       "        text-align: right;\n",
       "    }\n",
       "</style>\n",
       "<table border=\"1\" class=\"dataframe\">\n",
       "  <thead>\n",
       "    <tr style=\"text-align: right;\">\n",
       "      <th></th>\n",
       "      <th>Tanggal</th>\n",
       "      <th>Ask</th>\n",
       "      <th>Bid</th>\n",
       "    </tr>\n",
       "  </thead>\n",
       "  <tbody>\n",
       "    <tr>\n",
       "      <th>0</th>\n",
       "      <td>03 Agustus 2020</td>\n",
       "      <td>139,72</td>\n",
       "      <td>138,32</td>\n",
       "    </tr>\n",
       "    <tr>\n",
       "      <th>1</th>\n",
       "      <td>04 Agustus 2020</td>\n",
       "      <td>139,19</td>\n",
       "      <td>137,79</td>\n",
       "    </tr>\n",
       "    <tr>\n",
       "      <th>2</th>\n",
       "      <td>05 Agustus 2020</td>\n",
       "      <td>139,23</td>\n",
       "      <td>137,84</td>\n",
       "    </tr>\n",
       "    <tr>\n",
       "      <th>3</th>\n",
       "      <td>06 Agustus 2020</td>\n",
       "      <td>138,88</td>\n",
       "      <td>137,48</td>\n",
       "    </tr>\n",
       "    <tr>\n",
       "      <th>4</th>\n",
       "      <td>07 Agustus 2020</td>\n",
       "      <td>139,42</td>\n",
       "      <td>138,02</td>\n",
       "    </tr>\n",
       "  </tbody>\n",
       "</table>\n",
       "</div>"
      ],
      "text/plain": [
       "           Tanggal     Ask     Bid\n",
       "0  03 Agustus 2020  139,72  138,32\n",
       "1  04 Agustus 2020  139,19  137,79\n",
       "2  05 Agustus 2020  139,23  137,84\n",
       "3  06 Agustus 2020  138,88  137,48\n",
       "4  07 Agustus 2020  139,42  138,02"
      ]
     },
     "execution_count": 9,
     "metadata": {},
     "output_type": "execute_result"
    }
   ],
   "source": [
    "import pandas as pd\n",
    "\n",
    "df = pd.DataFrame(temp, columns = ('Tanggal','Ask','Bid'))\n",
    "df.head()"
   ]
  },
  {
   "cell_type": "markdown",
   "metadata": {},
   "source": [
    "Setelah di import ke dataframe, kita coba cek type data per seriesnya dan pastikan format numbernya sudah sesuai\n",
    "- untuk Tanggal bisa pakai object atau bisa di rubah ke datetime64 ( jika di rubah ke datetime64, kita membutuhkan library date parser, karena formatnya tidak sesuai)\n",
    "- untuk data Ask dan Bid ini harus kita rubah ke float 64, tapi di karenakan datanya masih mengandung \",\" di mana seharusnya \".\", maka harus di rubah dulu format numbernya dengan replace, setelah itu baru di rubah ke float64 "
   ]
  },
  {
   "cell_type": "code",
   "execution_count": 10,
   "metadata": {
    "scrolled": false
   },
   "outputs": [
    {
     "data": {
      "text/plain": [
       "Tanggal    object\n",
       "Ask        object\n",
       "Bid        object\n",
       "dtype: object"
      ]
     },
     "execution_count": 10,
     "metadata": {},
     "output_type": "execute_result"
    }
   ],
   "source": [
    "df.dtypes"
   ]
  },
  {
   "cell_type": "code",
   "execution_count": 11,
   "metadata": {
    "scrolled": true
   },
   "outputs": [],
   "source": [
    "df['Ask'] = df['Ask'].str.replace(\",\",\".\")\n",
    "df['Bid'] = df['Bid'].str.replace(\",\",\".\")\n",
    "df['Ask'] = df['Ask'].astype('float64')\n",
    "df['Bid'] = df['Bid'].astype('float64')"
   ]
  },
  {
   "cell_type": "markdown",
   "metadata": {},
   "source": [
    "Karena di sini kita mau plot datanya ke dalam line chart dan supaya tanggal bisa menjadi axis maka untuk tanggal saya rubah menjadi index"
   ]
  },
  {
   "cell_type": "code",
   "execution_count": 12,
   "metadata": {
    "scrolled": false
   },
   "outputs": [],
   "source": [
    "df = df.set_index('Tanggal')"
   ]
  },
  {
   "cell_type": "code",
   "execution_count": 13,
   "metadata": {},
   "outputs": [
    {
     "data": {
      "text/html": [
       "<div>\n",
       "<style scoped>\n",
       "    .dataframe tbody tr th:only-of-type {\n",
       "        vertical-align: middle;\n",
       "    }\n",
       "\n",
       "    .dataframe tbody tr th {\n",
       "        vertical-align: top;\n",
       "    }\n",
       "\n",
       "    .dataframe thead th {\n",
       "        text-align: right;\n",
       "    }\n",
       "</style>\n",
       "<table border=\"1\" class=\"dataframe\">\n",
       "  <thead>\n",
       "    <tr style=\"text-align: right;\">\n",
       "      <th></th>\n",
       "      <th>Ask</th>\n",
       "      <th>Bid</th>\n",
       "    </tr>\n",
       "    <tr>\n",
       "      <th>Tanggal</th>\n",
       "      <th></th>\n",
       "      <th></th>\n",
       "    </tr>\n",
       "  </thead>\n",
       "  <tbody>\n",
       "    <tr>\n",
       "      <th>03 Agustus 2020</th>\n",
       "      <td>139.72</td>\n",
       "      <td>138.32</td>\n",
       "    </tr>\n",
       "    <tr>\n",
       "      <th>04 Agustus 2020</th>\n",
       "      <td>139.19</td>\n",
       "      <td>137.79</td>\n",
       "    </tr>\n",
       "    <tr>\n",
       "      <th>05 Agustus 2020</th>\n",
       "      <td>139.23</td>\n",
       "      <td>137.84</td>\n",
       "    </tr>\n",
       "    <tr>\n",
       "      <th>06 Agustus 2020</th>\n",
       "      <td>138.88</td>\n",
       "      <td>137.48</td>\n",
       "    </tr>\n",
       "    <tr>\n",
       "      <th>07 Agustus 2020</th>\n",
       "      <td>139.42</td>\n",
       "      <td>138.02</td>\n",
       "    </tr>\n",
       "  </tbody>\n",
       "</table>\n",
       "</div>"
      ],
      "text/plain": [
       "                    Ask     Bid\n",
       "Tanggal                        \n",
       "03 Agustus 2020  139.72  138.32\n",
       "04 Agustus 2020  139.19  137.79\n",
       "05 Agustus 2020  139.23  137.84\n",
       "06 Agustus 2020  138.88  137.48\n",
       "07 Agustus 2020  139.42  138.02"
      ]
     },
     "execution_count": 13,
     "metadata": {},
     "output_type": "execute_result"
    }
   ],
   "source": [
    "df"
   ]
  },
  {
   "cell_type": "markdown",
   "metadata": {},
   "source": [
    "Do the data visualisation here.\n",
    "\n",
    "Terakhir tahap visualisasi, di sini kita menggunakan line plot dimana di gunakan untuk memvisualisasikan pergerakan harga dari kurs YEN day to day\n"
   ]
  },
  {
   "cell_type": "code",
   "execution_count": 14,
   "metadata": {
    "scrolled": false
   },
   "outputs": [
    {
     "name": "stderr",
     "output_type": "stream",
     "text": [
      "C:\\Users\\User\\anaconda3\\envs\\algoritma\\lib\\site-packages\\pandas\\plotting\\_matplotlib\\core.py:1192: UserWarning: FixedFormatter should only be used together with FixedLocator\n",
      "  ax.set_xticklabels(xticklabels)\n"
     ]
    },
    {
     "data": {
      "text/plain": [
       "<AxesSubplot:xlabel='Tanggal'>"
      ]
     },
     "execution_count": 14,
     "metadata": {},
     "output_type": "execute_result"
    },
    {
     "data": {
      "image/png": "[encoded data removed]",
      "text/plain": [
       "<Figure size 432x288 with 1 Axes>"
      ]
     },
     "metadata": {
      "needs_background": "light"
     },
     "output_type": "display_data"
    }
   ],
   "source": [
    "df.plot()"
   ]
  },
  {
   "cell_type": "markdown",
   "metadata": {},
   "source": [
    "Setelah mendapatkan data dan melihat visualisasinya terlihat Trend Harga YEN JPY di banding IDR semakin lama semakin turun akan tetapi tanggal terakhir terlihat sedikit kenaikan Sehingga jika pengen investasi ke dalam mata uang yen adalah waktu yang tepat karena trendnya mulai bulish\n",
    "\n",
    "Kesimpulannya :\n",
    "untuk mendapatkan data dari web kita cukup menggunakan library beautifulsoup4 dengan memasukan beberapa kata kunci dalam pencarian data yang mau di scrapping\n"
   ]
  }
 ],
 "metadata": {
  "kernelspec": {
   "display_name": "algoritma",
   "language": "python",
   "name": "algoritma"
  },
  "language_info": {
   "codemirror_mode": {
    "name": "ipython",
    "version": 3
   },
   "file_extension": ".py",
   "mimetype": "text/x-python",
   "name": "python",
   "nbconvert_exporter": "python",
   "pygments_lexer": "ipython3",
   "version": "3.8.3"
  },
  "toc": {
   "base_numbering": 1,
   "nav_menu": {},
   "number_sections": true,
   "sideBar": true,
   "skip_h1_title": false,
   "title_cell": "Table of Contents",
   "title_sidebar": "Contents",
   "toc_cell": false,
   "toc_position": {},
   "toc_section_display": true,
   "toc_window_display": false
  }
 },
 "nbformat": 4,
 "nbformat_minor": 2
}
